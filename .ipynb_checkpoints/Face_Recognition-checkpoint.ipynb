{
 "cells": [
  {
   "cell_type": "markdown",
   "metadata": {},
   "source": [
    "<div style=\"text-align: left;\">\n",
    "<table style=\"width:100%; background-color:transparent;\">\n",
    "  <tr style=\"background-color:transparent;\">\n",
    "<img border=\"0\" src=\"https://www.usinenouvelle.com/mediatheque/3/2/7/000624723_image_600x315.jpg\" width=\"30%\"> </td>\n",
    "<img border=\"0\" src=\"https://josephsteinberg.com/wp-content/uploads/2020/01/Facial-Recognition.png\" width=\"40%\"> </td>\n",
    "  </tr>\n",
    "</table> \n",
    "</div>\n",
    "<center><h1> Face Recognition</h1></center>\n",
    "<br>\n",
    "<center> Nayel Bettache, Solène Cochennec </center>"
   ]
  },
  {
   "cell_type": "markdown",
   "metadata": {},
   "source": [
    "## Table of Contents\n",
    "\n",
    "0. [Introduction](#intro)<br>\n",
    "1. [Data Analysis](#Data-Analysis) <br>"
   ]
  },
  {
   "cell_type": "markdown",
   "metadata": {},
   "source": [
    "<a id='intro'></a>\n",
    "# Introduction "
   ]
  },
  {
   "cell_type": "markdown",
   "metadata": {},
   "source": [
    "The aim of the project is to implement various techniques on face recognition, based on two articles \"Face Recogniftion by Sparse Representation\" (article 1) and \"Robust Face Recognition via Sparse Representation\" (article 2).\n",
    "\n"
   ]
  },
  {
   "cell_type": "markdown",
   "metadata": {},
   "source": [
    "We will firstly select a face database (we only consider a small one for now, and we may extend it after). We will use the Yale face database (http://vision.ucsd.edu/content/yale-face-database) which contains 165 grayscale images in GIF format of 15 individuals. \n",
    "\n",
    "There are 11 images per subject, one per different facial expression or configuration: center-light, w/glasses, happy, left-light, w/no glasses, normal, right-light, sad, sleepy, surprised, and wink."
   ]
  },
  {
   "cell_type": "markdown",
   "metadata": {},
   "source": [
    "### We start by downloading it into a new folder "
   ]
  },
  {
   "cell_type": "code",
   "execution_count": 1,
   "metadata": {},
   "outputs": [],
   "source": [
    "!python import_data.py"
   ]
  },
  {
   "cell_type": "markdown",
   "metadata": {},
   "source": [
    "### Unzip the doc & prepare data (no need to run this part if the data are downloaded from github) "
   ]
  },
  {
   "cell_type": "code",
   "execution_count": 103,
   "metadata": {},
   "outputs": [],
   "source": [
    "import os \n",
    "import pandas as pd \n",
    "from PIL import Image\n",
    "from glob import glob\n",
    "import numpy as np \n",
    "import shutil"
   ]
  },
  {
   "cell_type": "code",
   "execution_count": 104,
   "metadata": {},
   "outputs": [],
   "source": [
    "import zipfile"
   ]
  },
  {
   "cell_type": "code",
   "execution_count": 105,
   "metadata": {},
   "outputs": [
    {
     "data": {
      "text/plain": [
       "'/Users/solene/Desktop/face_recognition'"
      ]
     },
     "execution_count": 105,
     "metadata": {},
     "output_type": "execute_result"
    }
   ],
   "source": [
    "path = os.getcwd() ## Vérifier que ton os est bien dans le folder \"face_recognition\"\n",
    "path"
   ]
  },
  {
   "cell_type": "code",
   "execution_count": 106,
   "metadata": {},
   "outputs": [],
   "source": [
    "if os.path.exists(path + '/data/yalefaces'):\n",
    "    shutil.rmtree(path + '/data/yalefaces')"
   ]
  },
  {
   "cell_type": "code",
   "execution_count": 107,
   "metadata": {},
   "outputs": [],
   "source": [
    "path_zip = path + \"/data/face_yale.zip\"\n",
    "directory = \"data\"\n",
    "with zipfile.ZipFile(path_zip, 'r') as zip_ref:\n",
    "    zip_ref.extractall(directory)"
   ]
  },
  {
   "cell_type": "code",
   "execution_count": 108,
   "metadata": {},
   "outputs": [],
   "source": [
    "collection = path + \"/data/yalefaces\"\n",
    "for filename in os.listdir(collection):\n",
    "    new_name = filename.replace(\".\",\"_\")\n",
    "    os.rename(path + \"/data/yalefaces/\" + str(filename), path + \"/data/yalefaces/\" + new_name + \".jpg\")\n"
   ]
  },
  {
   "cell_type": "code",
   "execution_count": 109,
   "metadata": {},
   "outputs": [],
   "source": [
    "os.remove(path + '/data/yalefaces/Readme_txt.jpg')"
   ]
  },
  {
   "cell_type": "code",
   "execution_count": 110,
   "metadata": {},
   "outputs": [
    {
     "name": "stdout",
     "output_type": "stream",
     "text": [
      "Executing the directory subject01\n",
      "Successfully created the directory subject01 \n",
      "Executing the directory subject02\n",
      "Successfully created the directory subject02 \n",
      "Executing the directory subject03\n",
      "Successfully created the directory subject03 \n",
      "Executing the directory subject04\n",
      "Successfully created the directory subject04 \n",
      "Executing the directory subject05\n",
      "Successfully created the directory subject05 \n",
      "Executing the directory subject06\n",
      "Successfully created the directory subject06 \n",
      "Executing the directory subject07\n",
      "Successfully created the directory subject07 \n",
      "Executing the directory subject08\n",
      "Successfully created the directory subject08 \n",
      "Executing the directory subject09\n",
      "Successfully created the directory subject09 \n",
      "Executing the directory subject10\n",
      "Successfully created the directory subject10 \n",
      "Executing the directory subject11\n",
      "Successfully created the directory subject11 \n",
      "Executing the directory subject12\n",
      "Successfully created the directory subject12 \n",
      "Executing the directory subject13\n",
      "Successfully created the directory subject13 \n",
      "Executing the directory subject14\n",
      "Successfully created the directory subject14 \n",
      "Executing the directory subject15\n",
      "Successfully created the directory subject15 \n"
     ]
    }
   ],
   "source": [
    "for i in range(1, 16):\n",
    "    if i < 10:\n",
    "        nb_subj = '0' + str(i)\n",
    "    else:\n",
    "        nb_subj = str(i)\n",
    "    path_dir = 'subject' + nb_subj\n",
    "    print('Executing the directory %s' %path_dir )\n",
    "    try:\n",
    "        os.mkdir(collection + '/' + path_dir)\n",
    "    except OSError:\n",
    "        print (\"Creation of the directory %s failed\" % path_dir)\n",
    "    else:\n",
    "        print (\"Successfully created the directory %s \" % path_dir)\n",
    "    files_dir = [f for f in os.listdir(collection) if os.path.isfile(os.path.join(collection, f)) and \n",
    "             path_dir in f]\n",
    "    for name in files_dir:\n",
    "        shutil.move(collection + '/' + name, collection + '/' + path_dir)\n",
    "        "
   ]
  },
  {
   "cell_type": "markdown",
   "metadata": {},
   "source": [
    "### To get one image "
   ]
  },
  {
   "cell_type": "code",
   "execution_count": 111,
   "metadata": {},
   "outputs": [
    {
     "data": {
      "image/png": "[encoded data removed]",
      "text/plain": [
       "<PIL.GifImagePlugin.GifImageFile image mode=L size=320x243 at 0x103BDDB38>"
      ]
     },
     "execution_count": 111,
     "metadata": {},
     "output_type": "execute_result"
    }
   ],
   "source": [
    "Image.open(path + '/data/yalefaces/subject09/subject09_sleepy.jpg')"
   ]
  },
  {
   "cell_type": "markdown",
   "metadata": {},
   "source": [
    "### Get the database "
   ]
  },
  {
   "cell_type": "code",
   "execution_count": 112,
   "metadata": {},
   "outputs": [],
   "source": [
    "imPath = \"data/yalefaces\"\n",
    "image_base_empty=[]\n",
    "label_empty=[]\n",
    "\n",
    "for i in range(1, 16):\n",
    "    if i < 10:\n",
    "        nb_subj = '0' + str(i)\n",
    "    else:\n",
    "        nb_subj = str(i)\n",
    "    path_dir = 'subject' + nb_subj\n",
    "    ls_path = glob(os.path.join(imPath + '/' + path_dir, '*' ))\n",
    "\n",
    "    for file in ls_path: \n",
    "        im = np.array(Image.open(file))# .convert('RGB'))[:, :, ::-1]  ## Put the image into an array\n",
    "        image_base_empty+=[im]\n",
    "        label_empty+=[file.split('/')[2].split('_')[0].split('subject')[1]]   \n",
    "    \n",
    "image_base = np.array(image_base_empty)\n",
    "labels = np.array(label_empty)"
   ]
  },
  {
   "cell_type": "code",
   "execution_count": 81,
   "metadata": {},
   "outputs": [],
   "source": [
    "from resizeimage import resizeimage\n"
   ]
  },
  {
   "cell_type": "code",
   "execution_count": 87,
   "metadata": {},
   "outputs": [
    {
     "data": {
      "image/png": "[encoded data removed]",
      "text/plain": [
       "<PIL.Image.Image image mode=L size=200x100 at 0x1A1CF96CC0>"
      ]
     },
     "execution_count": 87,
     "metadata": {},
     "output_type": "execute_result"
    }
   ],
   "source": [
    "im_test = Image.open(path + '/data/yalefaces/subject09/subject09_sleepy.png')\n",
    "over = resizeimage.resize_cover(im_test, [200, 100])\n",
    "#np.array(over).shape\n",
    "over"
   ]
  },
  {
   "cell_type": "code",
   "execution_count": 113,
   "metadata": {},
   "outputs": [
    {
     "data": {
      "text/plain": [
       "(166,)"
      ]
     },
     "execution_count": 113,
     "metadata": {},
     "output_type": "execute_result"
    }
   ],
   "source": [
    "## We have two elements : images converted to arrays and labels \n",
    "labels.shape"
   ]
  },
  {
   "cell_type": "code",
   "execution_count": 114,
   "metadata": {},
   "outputs": [
    {
     "data": {
      "text/plain": [
       "(166, 243, 320)"
      ]
     },
     "execution_count": 114,
     "metadata": {},
     "output_type": "execute_result"
    }
   ],
   "source": [
    "image_base.shape"
   ]
  },
  {
   "cell_type": "code",
   "execution_count": 115,
   "metadata": {},
   "outputs": [
    {
     "data": {
      "text/plain": [
       "(243, 320)"
      ]
     },
     "execution_count": 115,
     "metadata": {},
     "output_type": "execute_result"
    }
   ],
   "source": [
    "image_base[0].shape"
   ]
  },
  {
   "cell_type": "markdown",
   "metadata": {},
   "source": [
    "# Database Preparation to models "
   ]
  },
  {
   "cell_type": "code",
   "execution_count": 116,
   "metadata": {},
   "outputs": [],
   "source": [
    "from sklearn.model_selection import train_test_split"
   ]
  },
  {
   "cell_type": "code",
   "execution_count": 117,
   "metadata": {},
   "outputs": [],
   "source": [
    "ramdom_seed=5\n",
    "X_train, X_test, Y_train, Y_test = train_test_split(image_base, labels, test_size=0.20, random_state=ramdom_seed)"
   ]
  },
  {
   "cell_type": "markdown",
   "metadata": {},
   "source": [
    "We separate our database into 2 sets : train (132 elements) and test (34 elements) randomnly. "
   ]
  },
  {
   "cell_type": "code",
   "execution_count": 118,
   "metadata": {},
   "outputs": [
    {
     "data": {
      "text/plain": [
       "(132, 243, 320)"
      ]
     },
     "execution_count": 118,
     "metadata": {},
     "output_type": "execute_result"
    }
   ],
   "source": [
    "X_train.shape"
   ]
  },
  {
   "cell_type": "code",
   "execution_count": 180,
   "metadata": {},
   "outputs": [
    {
     "data": {
      "text/plain": [
       "(34,)"
      ]
     },
     "execution_count": 180,
     "metadata": {},
     "output_type": "execute_result"
    }
   ],
   "source": [
    "Y_test.shape"
   ]
  },
  {
   "cell_type": "markdown",
   "metadata": {},
   "source": [
    "# Face recognition algorithm\n",
    "\n",
    "Face recognition systems either perform face verification, i.e., classify a pair of pictures as belonging to the same individual or not, or per- form face identification, i.e., put a label on an unknown face with respect to some training set. In this paper, we address the latter problem of face identification.\n",
    "\n",
    "Wright et al. applied the ideas of sparse coding to face recognition: they proposed the Sparse Representation based Classification (SRC) scheme, a dictionary learning based approach to recognize faces. This method, which can be seen as an improvement over the previous ones, is far more robust and is able to handle occlusions and corruption of face images"
   ]
  },
  {
   "cell_type": "markdown",
   "metadata": {},
   "source": [
    "## 1 - Sparse Representation-based Classification"
   ]
  },
  {
   "cell_type": "markdown",
   "metadata": {},
   "source": [
    "#### Step 1 : Creation of training sample matrix"
   ]
  },
  {
   "cell_type": "code",
   "execution_count": 120,
   "metadata": {},
   "outputs": [
    {
     "data": {
      "text/plain": [
       "array([[130., 130., 130., ..., 105., 130., 130.],\n",
       "       [255., 255., 255., ..., 228., 255., 255.],\n",
       "       [255., 255., 255., ..., 218., 255., 255.],\n",
       "       ...,\n",
       "       [213.,  65., 255., ..., 255.,  50., 238.],\n",
       "       [201.,  51., 255., ..., 255.,  43., 238.],\n",
       "       [ 68.,  68.,  68., ...,  68.,  68.,  68.]])"
      ]
     },
     "execution_count": 120,
     "metadata": {},
     "output_type": "execute_result"
    }
   ],
   "source": [
    "train_matrix = []\n",
    "for i in range(132):\n",
    "    col = np.transpose(X_train[i]).flatten()\n",
    "    train_matrix.append(col)\n",
    "\n",
    "A = (np.column_stack(train_matrix)).astype(float)\n",
    "A"
   ]
  },
  {
   "cell_type": "code",
   "execution_count": 121,
   "metadata": {},
   "outputs": [
    {
     "data": {
      "text/plain": [
       "(77760, 132)"
      ]
     },
     "execution_count": 121,
     "metadata": {},
     "output_type": "execute_result"
    }
   ],
   "source": [
    "A.shape"
   ]
  },
  {
   "cell_type": "markdown",
   "metadata": {},
   "source": [
    "Our matrix of training sample A is such that : $A = [A_1, A_2, ..., A_{15} ] \\in \\mathbb{R}^{m x 132}$ where $m = 243 * 320  $ and $132$ is the size of the training sample. \n",
    "\n",
    "$15$ is the number of different labels we have. "
   ]
  },
  {
   "cell_type": "code",
   "execution_count": 165,
   "metadata": {},
   "outputs": [],
   "source": [
    "## Step 1 bis : prepare the test sample \n",
    "def prepare_test(y):\n",
    "    y_prep = np.transpose(y).flatten()\n",
    "    y_prep = np.column_stack(y_prep).astype(float)\n",
    "    y_prep = np.reshape(y_prep, -1)\n",
    "    return y_prep"
   ]
  },
  {
   "cell_type": "code",
   "execution_count": 168,
   "metadata": {},
   "outputs": [
    {
     "data": {
      "text/plain": [
       "(77760,)"
      ]
     },
     "execution_count": 168,
     "metadata": {},
     "output_type": "execute_result"
    }
   ],
   "source": [
    "## Let test it with one element of the test sample \n",
    "y_0 = prepare_test(X_test[1])\n",
    "y_0.shape"
   ]
  },
  {
   "cell_type": "markdown",
   "metadata": {},
   "source": [
    "Then we correctly have $y \\in \\mathbb{R}^m$ with $m = 243 * 320  = 77 760$"
   ]
  },
  {
   "cell_type": "markdown",
   "metadata": {},
   "source": [
    "#### Step 2 : normalization of the columns of A "
   ]
  },
  {
   "cell_type": "code",
   "execution_count": 124,
   "metadata": {},
   "outputs": [],
   "source": [
    "from numpy import linalg "
   ]
  },
  {
   "cell_type": "code",
   "execution_count": 125,
   "metadata": {},
   "outputs": [],
   "source": [
    "def normalize_column(col):\n",
    "    \"\"\" Normalize a column vector \"\"\"\n",
    "    col = col.astype(float)\n",
    "    sq = linalg.norm(col) ## get the norm of a column vector \n",
    "    ncol = col / sq\n",
    "    return ncol\n",
    "\n",
    "\n",
    "def normalize_matrix(matrix):\n",
    "    \"\"\" Normalize a matrix \"\"\"\n",
    "    n, m = matrix.shape\n",
    "    nmatrix = np.zeros((n, m))\n",
    "    for j in range(m):\n",
    "        nmatrix[:, j] = normalize_column(matrix[:, j])\n",
    "    return nmatrix"
   ]
  },
  {
   "cell_type": "code",
   "execution_count": 126,
   "metadata": {},
   "outputs": [
    {
     "data": {
      "text/plain": [
       "array([[0.00226463, 0.00237594, 0.00220463, ..., 0.00207546, 0.00282228,\n",
       "        0.00218754],\n",
       "       [0.00444217, 0.0046605 , 0.00432446, ..., 0.00450671, 0.005536  ,\n",
       "        0.00429095],\n",
       "       [0.00444217, 0.0046605 , 0.00432446, ..., 0.00430904, 0.005536  ,\n",
       "        0.00429095],\n",
       "       ...,\n",
       "       [0.00371052, 0.00118797, 0.00432446, ..., 0.00504039, 0.00108549,\n",
       "        0.00400488],\n",
       "       [0.00350147, 0.0009321 , 0.00432446, ..., 0.00504039, 0.00093352,\n",
       "        0.00400488],\n",
       "       [0.00118458, 0.0012428 , 0.00115319, ..., 0.00134411, 0.00147627,\n",
       "        0.00114425]])"
      ]
     },
     "execution_count": 126,
     "metadata": {},
     "output_type": "execute_result"
    }
   ],
   "source": [
    "## We will normalize each column of A to have unit l2 norm\n",
    "A_norm = normalize_matrix(A)\n",
    "A_norm"
   ]
  },
  {
   "cell_type": "markdown",
   "metadata": {},
   "source": [
    "#### Step 3 : Solve the l1-minimization problem \n"
   ]
  },
  {
   "cell_type": "code",
   "execution_count": 127,
   "metadata": {},
   "outputs": [],
   "source": [
    "import l1ls as L"
   ]
  },
  {
   "cell_type": "code",
   "execution_count": 128,
   "metadata": {},
   "outputs": [],
   "source": [
    "[x, status, hist] = L.l1ls(A_norm, y_0, lmbda = 0.001, quiet=True)"
   ]
  },
  {
   "cell_type": "code",
   "execution_count": 129,
   "metadata": {},
   "outputs": [
    {
     "data": {
      "text/plain": [
       "array([-2.15964014e-06,  5.35440704e-04, -3.40453819e-02, -1.93172762e-03,\n",
       "       -1.79153038e-05,  2.04265678e+03, -4.76843808e-06, -4.27103323e-01,\n",
       "        6.50256735e-07,  7.94780118e-04, -1.59958605e+01, -8.21841248e+01,\n",
       "        6.35371514e+02, -1.94020780e+02, -3.58663700e-04, -2.35193541e-05,\n",
       "       -1.94396219e+01,  1.07292075e+01, -2.77722441e-03,  1.86473029e+02,\n",
       "        4.02504093e+02,  2.28101344e+02, -2.72312692e+02, -1.45158580e-01,\n",
       "        6.99128593e+02,  1.15231064e+02,  1.63908779e+02,  2.11735042e+02,\n",
       "        3.63788161e+01,  1.92421723e-01, -2.34482350e-06,  2.15230507e+02,\n",
       "       -3.38142461e-02, -1.98935640e-06, -2.52732719e-06,  2.49782207e-05,\n",
       "       -2.85520411e-03,  7.56353395e-07,  1.38458197e+01, -9.72807004e+02,\n",
       "       -1.01838852e+02, -6.65085496e-06, -6.15397227e+02, -1.33298139e-01,\n",
       "       -8.29124247e-05, -1.00664558e+01,  4.75877657e-05,  1.55288126e+01,\n",
       "       -5.40788417e-04, -1.50067694e-03,  1.32088653e+01, -1.76399714e+00,\n",
       "       -3.28534980e-02, -1.49334844e-02, -2.39264483e-02, -1.52787217e-03,\n",
       "       -1.29792082e+02,  1.60317718e+02,  7.44870854e+01, -5.98023315e+01,\n",
       "        1.50605154e+03,  2.16556721e+02,  1.96902957e+02,  4.86375007e+01,\n",
       "        3.27342408e+00,  5.37854826e+01, -4.51105183e+00,  7.83689938e+00,\n",
       "        2.66212354e+00,  6.99128593e+02, -5.80476094e+02,  2.73726960e+02,\n",
       "        2.49978842e+01,  4.34020916e+01, -7.62013315e+01,  1.96763797e+01,\n",
       "        1.92421723e-01,  7.12032661e-05, -2.98296406e-04, -2.67376779e+02,\n",
       "       -1.85597204e-04, -1.42611788e-04, -1.45256025e+02, -6.65085496e-06,\n",
       "       -6.06570973e-04, -8.84460686e+01, -2.89478328e+00, -1.02847837e-04,\n",
       "       -3.02394327e+00,  1.86852651e-06, -1.13229656e+00,  2.86625026e+01,\n",
       "        6.68189679e+01,  2.71427613e+00, -4.70265306e+01, -5.99623621e-03,\n",
       "       -2.26074220e-05,  6.48741707e+01, -1.27223037e+00,  8.72747124e-02,\n",
       "       -9.23981806e+01, -8.23418266e-07, -2.68767792e+02,  2.15577424e+02,\n",
       "       -8.10252307e+02, -7.22383188e+00, -2.17733814e-06, -3.89585561e-01,\n",
       "        2.60939632e+03,  1.23759150e+01,  1.72878588e+01,  7.30265899e+01,\n",
       "        4.88972045e+01, -1.02847837e-04,  1.63908779e+02,  1.08086545e+02,\n",
       "       -1.57383329e+02, -2.85520411e-03,  6.59402419e+01,  5.37406706e+01,\n",
       "       -1.16141941e-04, -4.49788810e-04, -2.98483963e+01, -8.84460686e+01,\n",
       "       -1.38366606e+01, -1.04830268e+00, -3.14381918e-04, -7.84203788e+00,\n",
       "       -1.04220331e+02, -3.88271456e+00, -6.68092119e+00,  1.32088653e+01])"
      ]
     },
     "execution_count": 129,
     "metadata": {},
     "output_type": "execute_result"
    }
   ],
   "source": [
    "x"
   ]
  },
  {
   "cell_type": "markdown",
   "metadata": {},
   "source": [
    "#### Step 4 : Compute the residual and get the class "
   ]
  },
  {
   "cell_type": "code",
   "execution_count": 174,
   "metadata": {},
   "outputs": [],
   "source": [
    "def classif(D, y, x, train_size, nb_classes):\n",
    "    \"\"\" Perform classification of y using sparse encoding x \"\"\"\n",
    "    res_tab = np.zeros(nb_classes)\n",
    "    \n",
    "    for i in range(nb_classes): \n",
    "        xclass = x[train_size * i:train_size * (i + 1)]\n",
    "        Dclass = D[:, train_size * i:train_size * (i + 1)]\n",
    "        \n",
    "        ## Calculate the residual for all the classes \n",
    "        res = y - Dclass.dot(xclass) \n",
    "        res_tab[i] = np.linalg.norm(res, ord = 2) \n",
    "        \n",
    "    return np.argmin(res_tab) + 1 ## Classify our test "
   ]
  },
  {
   "cell_type": "code",
   "execution_count": 175,
   "metadata": {},
   "outputs": [
    {
     "data": {
      "text/plain": [
       "1"
      ]
     },
     "execution_count": 175,
     "metadata": {},
     "output_type": "execute_result"
    }
   ],
   "source": [
    "y_0_class = classif(A_norm, y_0, x ,132,15)\n",
    "y_0_class"
   ]
  },
  {
   "cell_type": "code",
   "execution_count": 191,
   "metadata": {},
   "outputs": [],
   "source": [
    "## We will create the SRC to classify all our test base \n",
    "def sparse_rep(X_train, X_test, Y_test, A_norm):\n",
    "    \n",
    "    nb_train = X_train.shape[0]\n",
    "    nb_test = X_test.shape[0]\n",
    "    nb_true = 0 \n",
    "    total = 0 \n",
    "    \n",
    "    for i in range(nb_test):  \n",
    "        # Step 1:\n",
    "        y = prepare_test(X_test[i])\n",
    "        # Step 3: \n",
    "        [x, status, hist] = L.l1ls(A_norm, y_0, lmbda = 0.001, quiet=True)\n",
    "        # Step 4: \n",
    "        y_class = classif(A_norm, y, x , nb_train, 15)\n",
    "        true_label = Y_test[i]\n",
    "\n",
    "        print(\"The true label is \" + str(true_label) + \" and we predicted \" + str(y_class))\n",
    "\n",
    "        if y_class == true_label:\n",
    "            nb_true += 1\n",
    "        total += 1\n",
    "    rate = good * 1.0 / (total * 1.0)\n",
    "    print(\"Recognition rate: \", rate)"
   ]
  },
  {
   "cell_type": "code",
   "execution_count": null,
   "metadata": {},
   "outputs": [
    {
     "name": "stdout",
     "output_type": "stream",
     "text": [
      "The true label is 12 and we prediced1\n"
     ]
    }
   ],
   "source": [
    "sparse_rep(X_train, X_test, Y_test, A_norm)"
   ]
  },
  {
   "cell_type": "markdown",
   "metadata": {},
   "source": [
    "## 2 -  Robust Sparse Coding "
   ]
  },
  {
   "cell_type": "markdown",
   "metadata": {},
   "source": [
    "The SRC algorithm led to other approaches, that use sparsity and improve the robustness in dealing with face alignment and pose variation issues.\n",
    "Following the success of the use of sparsity in face recog- nition Zhang et al. questioned if sparsity was the key to the success of the SRC algorithm. They concluded that it is the use of collaborative representation (i.e., using an overcom- plete dictionary) and not the sparsity constraint that improves face recognition performance. This led to the development of other algorithms like MSPCRC or PCRC that use this idea of collaborative representation.\n",
    "\n",
    "In order to be robust, computationally efficient, and use min- imal training, we choose to use the Robust Sparse Coding (RSC) algorithm with modifications"
   ]
  },
  {
   "cell_type": "code",
   "execution_count": 20,
   "metadata": {},
   "outputs": [
    {
     "name": "stdout",
     "output_type": "stream",
     "text": [
      "Processing images ...\n",
      "/Users/nbettache/Desktop/face_recognition/data/yalefaces/subject01/subject01_glasses.png\n",
      "/Users/nbettache/Desktop/face_recognition/data/yalefaces/subject01/subject01_gif.png\n",
      "/Users/nbettache/Desktop/face_recognition/data/yalefaces/subject01/subject01_wink.png\n",
      "/Users/nbettache/Desktop/face_recognition/data/yalefaces/subject01/subject01_happy.png\n",
      "/Users/nbettache/Desktop/face_recognition/data/yalefaces/subject01/subject01_surprised.png\n",
      "/Users/nbettache/Desktop/face_recognition/data/yalefaces/subject01/subject01_leftlight.png\n",
      "/Users/nbettache/Desktop/face_recognition/data/yalefaces/subject01/subject01_noglasses.png\n",
      "/Users/nbettache/Desktop/face_recognition/data/yalefaces/subject01/subject01_glasses_gif.png\n",
      "/Users/nbettache/Desktop/face_recognition/data/yalefaces/subject01/subject01_sad.png\n",
      "/Users/nbettache/Desktop/face_recognition/data/yalefaces/subject02/subject02_centerlight.png\n",
      "/Users/nbettache/Desktop/face_recognition/data/yalefaces/subject02/subject02_leftlight.png\n",
      "/Users/nbettache/Desktop/face_recognition/data/yalefaces/subject02/subject02_surprised.png\n",
      "/Users/nbettache/Desktop/face_recognition/data/yalefaces/subject02/subject02_rightlight.png\n",
      "/Users/nbettache/Desktop/face_recognition/data/yalefaces/subject02/subject02_glasses.png\n",
      "/Users/nbettache/Desktop/face_recognition/data/yalefaces/subject02/subject02_happy.png\n",
      "/Users/nbettache/Desktop/face_recognition/data/yalefaces/subject02/subject02_normal.png\n",
      "/Users/nbettache/Desktop/face_recognition/data/yalefaces/subject02/subject02_sad.png\n",
      "/Users/nbettache/Desktop/face_recognition/data/yalefaces/subject02/subject02_sleepy.png\n",
      "/Users/nbettache/Desktop/face_recognition/data/yalefaces/subject03/subject03_noglasses.png\n",
      "/Users/nbettache/Desktop/face_recognition/data/yalefaces/subject03/subject03_happy.png\n",
      "/Users/nbettache/Desktop/face_recognition/data/yalefaces/subject03/subject03_leftlight.png\n",
      "/Users/nbettache/Desktop/face_recognition/data/yalefaces/subject03/subject03_sleepy.png\n",
      "/Users/nbettache/Desktop/face_recognition/data/yalefaces/subject03/subject03_normal.png\n",
      "/Users/nbettache/Desktop/face_recognition/data/yalefaces/subject03/subject03_sad.png\n",
      "/Users/nbettache/Desktop/face_recognition/data/yalefaces/subject03/subject03_rightlight.png\n",
      "/Users/nbettache/Desktop/face_recognition/data/yalefaces/subject03/subject03_glasses.png\n",
      "/Users/nbettache/Desktop/face_recognition/data/yalefaces/subject03/subject03_centerlight.png\n",
      "/Users/nbettache/Desktop/face_recognition/data/yalefaces/subject04/subject04_rightlight.png\n",
      "/Users/nbettache/Desktop/face_recognition/data/yalefaces/subject04/subject04_noglasses.png\n",
      "/Users/nbettache/Desktop/face_recognition/data/yalefaces/subject04/subject04_happy.png\n",
      "/Users/nbettache/Desktop/face_recognition/data/yalefaces/subject04/subject04_sad.png\n",
      "/Users/nbettache/Desktop/face_recognition/data/yalefaces/subject04/subject04_wink.png\n",
      "/Users/nbettache/Desktop/face_recognition/data/yalefaces/subject04/subject04_leftlight.png\n",
      "/Users/nbettache/Desktop/face_recognition/data/yalefaces/subject04/subject04_sleepy.png\n",
      "/Users/nbettache/Desktop/face_recognition/data/yalefaces/subject04/subject04_centerlight.png\n",
      "/Users/nbettache/Desktop/face_recognition/data/yalefaces/subject04/subject04_surprised.png\n",
      "/Users/nbettache/Desktop/face_recognition/data/yalefaces/subject05/subject05_rightlight.png\n",
      "/Users/nbettache/Desktop/face_recognition/data/yalefaces/subject05/subject05_centerlight.png\n",
      "/Users/nbettache/Desktop/face_recognition/data/yalefaces/subject05/subject05_normal.png\n",
      "/Users/nbettache/Desktop/face_recognition/data/yalefaces/subject05/subject05_noglasses.png\n",
      "/Users/nbettache/Desktop/face_recognition/data/yalefaces/subject05/subject05_wink.png\n",
      "/Users/nbettache/Desktop/face_recognition/data/yalefaces/subject05/subject05_sad.png\n",
      "/Users/nbettache/Desktop/face_recognition/data/yalefaces/subject05/subject05_happy.png\n",
      "/Users/nbettache/Desktop/face_recognition/data/yalefaces/subject05/subject05_sleepy.png\n",
      "/Users/nbettache/Desktop/face_recognition/data/yalefaces/subject05/subject05_surprised.png\n",
      "/Users/nbettache/Desktop/face_recognition/data/yalefaces/subject06/subject06_sad.png\n",
      "/Users/nbettache/Desktop/face_recognition/data/yalefaces/subject06/subject06_happy.png\n",
      "/Users/nbettache/Desktop/face_recognition/data/yalefaces/subject06/subject06_wink.png\n",
      "/Users/nbettache/Desktop/face_recognition/data/yalefaces/subject06/subject06_surprised.png\n",
      "/Users/nbettache/Desktop/face_recognition/data/yalefaces/subject06/subject06_centerlight.png\n",
      "/Users/nbettache/Desktop/face_recognition/data/yalefaces/subject06/subject06_sleepy.png\n",
      "/Users/nbettache/Desktop/face_recognition/data/yalefaces/subject06/subject06_noglasses.png\n",
      "/Users/nbettache/Desktop/face_recognition/data/yalefaces/subject06/subject06_rightlight.png\n",
      "/Users/nbettache/Desktop/face_recognition/data/yalefaces/subject06/subject06_leftlight.png\n",
      "/Users/nbettache/Desktop/face_recognition/data/yalefaces/subject07/subject07_leftlight.png\n",
      "/Users/nbettache/Desktop/face_recognition/data/yalefaces/subject07/subject07_sad.png\n",
      "/Users/nbettache/Desktop/face_recognition/data/yalefaces/subject07/subject07_sleepy.png\n",
      "/Users/nbettache/Desktop/face_recognition/data/yalefaces/subject07/subject07_glasses.png\n",
      "/Users/nbettache/Desktop/face_recognition/data/yalefaces/subject07/subject07_normal.png\n",
      "/Users/nbettache/Desktop/face_recognition/data/yalefaces/subject07/subject07_surprised.png\n",
      "/Users/nbettache/Desktop/face_recognition/data/yalefaces/subject07/subject07_noglasses.png\n",
      "/Users/nbettache/Desktop/face_recognition/data/yalefaces/subject07/subject07_rightlight.png\n",
      "/Users/nbettache/Desktop/face_recognition/data/yalefaces/subject07/subject07_wink.png\n",
      "/Users/nbettache/Desktop/face_recognition/data/yalefaces/subject08/subject08_rightlight.png\n",
      "/Users/nbettache/Desktop/face_recognition/data/yalefaces/subject08/subject08_surprised.png\n",
      "/Users/nbettache/Desktop/face_recognition/data/yalefaces/subject08/subject08_sleepy.png\n",
      "/Users/nbettache/Desktop/face_recognition/data/yalefaces/subject08/subject08_normal.png\n",
      "/Users/nbettache/Desktop/face_recognition/data/yalefaces/subject08/subject08_happy.png\n",
      "/Users/nbettache/Desktop/face_recognition/data/yalefaces/subject08/subject08_sad.png\n",
      "/Users/nbettache/Desktop/face_recognition/data/yalefaces/subject08/subject08_wink.png\n",
      "/Users/nbettache/Desktop/face_recognition/data/yalefaces/subject08/subject08_centerlight.png\n",
      "/Users/nbettache/Desktop/face_recognition/data/yalefaces/subject08/subject08_leftlight.png\n",
      "/Users/nbettache/Desktop/face_recognition/data/yalefaces/subject09/subject09_leftlight.png\n",
      "/Users/nbettache/Desktop/face_recognition/data/yalefaces/subject09/subject09_sleepy.png\n",
      "/Users/nbettache/Desktop/face_recognition/data/yalefaces/subject09/subject09_wink.png\n",
      "/Users/nbettache/Desktop/face_recognition/data/yalefaces/subject09/subject09_glasses.png\n",
      "/Users/nbettache/Desktop/face_recognition/data/yalefaces/subject09/subject09_normal.png\n",
      "/Users/nbettache/Desktop/face_recognition/data/yalefaces/subject09/subject09_noglasses.png\n",
      "/Users/nbettache/Desktop/face_recognition/data/yalefaces/subject09/subject09_happy.png\n",
      "/Users/nbettache/Desktop/face_recognition/data/yalefaces/subject09/subject09_surprised.png\n",
      "/Users/nbettache/Desktop/face_recognition/data/yalefaces/subject09/subject09_centerlight.png\n",
      "/Users/nbettache/Desktop/face_recognition/data/yalefaces/subject10/subject10_happy.png\n",
      "/Users/nbettache/Desktop/face_recognition/data/yalefaces/subject10/subject10_noglasses.png\n",
      "/Users/nbettache/Desktop/face_recognition/data/yalefaces/subject10/subject10_leftlight.png\n",
      "/Users/nbettache/Desktop/face_recognition/data/yalefaces/subject10/subject10_wink.png\n",
      "/Users/nbettache/Desktop/face_recognition/data/yalefaces/subject10/subject10_surprised.png\n",
      "/Users/nbettache/Desktop/face_recognition/data/yalefaces/subject10/subject10_centerlight.png\n",
      "/Users/nbettache/Desktop/face_recognition/data/yalefaces/subject10/subject10_rightlight.png\n",
      "/Users/nbettache/Desktop/face_recognition/data/yalefaces/subject10/subject10_glasses.png\n",
      "/Users/nbettache/Desktop/face_recognition/data/yalefaces/subject10/subject10_sleepy.png\n",
      "/Users/nbettache/Desktop/face_recognition/data/yalefaces/subject11/subject11_happy.png\n",
      "/Users/nbettache/Desktop/face_recognition/data/yalefaces/subject11/subject11_surprised.png\n"
     ]
    },
    {
     "name": "stdout",
     "output_type": "stream",
     "text": [
      "/Users/nbettache/Desktop/face_recognition/data/yalefaces/subject11/subject11_leftlight.png\n",
      "/Users/nbettache/Desktop/face_recognition/data/yalefaces/subject11/subject11_glasses.png\n",
      "/Users/nbettache/Desktop/face_recognition/data/yalefaces/subject11/subject11_sad.png\n",
      "/Users/nbettache/Desktop/face_recognition/data/yalefaces/subject11/subject11_noglasses.png\n",
      "/Users/nbettache/Desktop/face_recognition/data/yalefaces/subject11/subject11_rightlight.png\n",
      "/Users/nbettache/Desktop/face_recognition/data/yalefaces/subject11/subject11_wink.png\n",
      "/Users/nbettache/Desktop/face_recognition/data/yalefaces/subject11/subject11_centerlight.png\n",
      "/Users/nbettache/Desktop/face_recognition/data/yalefaces/subject12/subject12_sad.png\n",
      "/Users/nbettache/Desktop/face_recognition/data/yalefaces/subject12/subject12_wink.png\n",
      "/Users/nbettache/Desktop/face_recognition/data/yalefaces/subject12/subject12_sleepy.png\n",
      "/Users/nbettache/Desktop/face_recognition/data/yalefaces/subject12/subject12_normal.png\n",
      "/Users/nbettache/Desktop/face_recognition/data/yalefaces/subject12/subject12_glasses.png\n",
      "/Users/nbettache/Desktop/face_recognition/data/yalefaces/subject12/subject12_surprised.png\n",
      "error image /Users/nbettache/Desktop/face_recognition/data/yalefaces/subject12/subject12_surprised.png OpenCV(4.2.0) /Users/travis/build/skvark/opencv-python/opencv/modules/imgproc/src/imgwarp.cpp:2594: error: (-215:Assertion failed) src.cols > 0 && src.rows > 0 in function 'warpAffine'\n",
      "\n",
      "/Users/nbettache/Desktop/face_recognition/data/yalefaces/subject12/subject12_noglasses.png\n",
      "/Users/nbettache/Desktop/face_recognition/data/yalefaces/subject12/subject12_centerlight.png\n",
      "/Users/nbettache/Desktop/face_recognition/data/yalefaces/subject12/subject12_leftlight.png\n",
      "/Users/nbettache/Desktop/face_recognition/data/yalefaces/subject12/subject12_happy.png\n",
      "/Users/nbettache/Desktop/face_recognition/data/yalefaces/subject13/subject13_happy.png\n",
      "/Users/nbettache/Desktop/face_recognition/data/yalefaces/subject13/subject13_normal.png\n",
      "/Users/nbettache/Desktop/face_recognition/data/yalefaces/subject13/subject13_glasses.png\n",
      "/Users/nbettache/Desktop/face_recognition/data/yalefaces/subject13/subject13_wink.png\n",
      "/Users/nbettache/Desktop/face_recognition/data/yalefaces/subject13/subject13_rightlight.png\n",
      "error image /Users/nbettache/Desktop/face_recognition/data/yalefaces/subject13/subject13_rightlight.png OpenCV(4.2.0) /Users/travis/build/skvark/opencv-python/opencv/modules/imgproc/src/imgwarp.cpp:2594: error: (-215:Assertion failed) src.cols > 0 && src.rows > 0 in function 'warpAffine'\n",
      "\n",
      "/Users/nbettache/Desktop/face_recognition/data/yalefaces/subject13/subject13_sad.png\n",
      "/Users/nbettache/Desktop/face_recognition/data/yalefaces/subject13/subject13_surprised.png\n",
      "error image /Users/nbettache/Desktop/face_recognition/data/yalefaces/subject13/subject13_surprised.png OpenCV(4.2.0) /Users/travis/build/skvark/opencv-python/opencv/modules/imgproc/src/imgwarp.cpp:2594: error: (-215:Assertion failed) src.cols > 0 && src.rows > 0 in function 'warpAffine'\n",
      "\n",
      "/Users/nbettache/Desktop/face_recognition/data/yalefaces/subject13/subject13_noglasses.png\n",
      "/Users/nbettache/Desktop/face_recognition/data/yalefaces/subject13/subject13_sleepy.png\n",
      "/Users/nbettache/Desktop/face_recognition/data/yalefaces/subject13/subject13_leftlight.png\n",
      "/Users/nbettache/Desktop/face_recognition/data/yalefaces/subject13/subject13_centerlight.png\n",
      "/Users/nbettache/Desktop/face_recognition/data/yalefaces/subject14/subject14_happy.png\n",
      "/Users/nbettache/Desktop/face_recognition/data/yalefaces/subject14/subject14_wink.png\n",
      "/Users/nbettache/Desktop/face_recognition/data/yalefaces/subject14/subject14_surprised.png\n",
      "/Users/nbettache/Desktop/face_recognition/data/yalefaces/subject14/subject14_sleepy.png\n",
      "/Users/nbettache/Desktop/face_recognition/data/yalefaces/subject14/subject14_normal.png\n",
      "/Users/nbettache/Desktop/face_recognition/data/yalefaces/subject14/subject14_sad.png\n",
      "/Users/nbettache/Desktop/face_recognition/data/yalefaces/subject14/subject14_leftlight.png\n",
      "/Users/nbettache/Desktop/face_recognition/data/yalefaces/subject14/subject14_centerlight.png\n",
      "/Users/nbettache/Desktop/face_recognition/data/yalefaces/subject14/subject14_rightlight.png\n",
      "/Users/nbettache/Desktop/face_recognition/data/yalefaces/subject15/subject15_happy.png\n",
      "/Users/nbettache/Desktop/face_recognition/data/yalefaces/subject15/subject15_wink.png\n",
      "/Users/nbettache/Desktop/face_recognition/data/yalefaces/subject15/subject15_rightlight.png\n",
      "/Users/nbettache/Desktop/face_recognition/data/yalefaces/subject15/subject15_noglasses.png\n",
      "/Users/nbettache/Desktop/face_recognition/data/yalefaces/subject15/subject15_glasses.png\n",
      "/Users/nbettache/Desktop/face_recognition/data/yalefaces/subject15/subject15_sleepy.png\n",
      "/Users/nbettache/Desktop/face_recognition/data/yalefaces/subject15/subject15_leftlight.png\n",
      "/Users/nbettache/Desktop/face_recognition/data/yalefaces/subject15/subject15_centerlight.png\n",
      "/Users/nbettache/Desktop/face_recognition/data/yalefaces/subject15/subject15_surprised.png\n",
      "Training and Test sets have been created with success!\n",
      "There are 15 classes\n",
      "489077.3354967304\n",
      "215964.39298880284\n",
      "117829.03035562244\n",
      "45285.702856490134\n",
      "44349.81163587695\n",
      "36003.11120056862\n",
      "33245.15552118628\n",
      "24515.659771290808\n",
      "19518.80982863875\n",
      "16662.395563238297\n",
      "13118.485903320417\n",
      "10214.241225565589\n",
      "8863.649699645639\n",
      "7386.804482965412\n",
      "6603.61763083002\n",
      "Class 1 identified as 1\n",
      "Class 1 identified as 1\n",
      "Class 1 identified as 1\n",
      "Class 2 identified as 2\n",
      "Class 2 identified as 2\n",
      "Class 2 identified as 2\n",
      "Class 3 identified as 6\n",
      "Class 3 identified as 12\n",
      "Class 3 identified as 3\n",
      "Class 4 identified as 4\n",
      "Class 4 identified as 4\n",
      "Class 4 identified as 4\n",
      "Class 5 identified as 5\n",
      "Class 5 identified as 5\n",
      "Class 5 identified as 5\n",
      "Class 6 identified as 6\n",
      "Class 6 identified as 15\n",
      "Class 6 identified as 6\n",
      "Class 7 identified as 7\n",
      "Class 7 identified as 7\n",
      "Class 7 identified as 7\n",
      "Class 8 identified as 8\n",
      "Class 8 identified as 8\n",
      "Class 8 identified as 3\n",
      "Class 9 identified as 9\n",
      "Class 9 identified as 9\n",
      "Class 9 identified as 9\n",
      "Class 10 identified as 5\n",
      "Class 10 identified as 10\n",
      "Class 10 identified as 10\n",
      "Class 11 identified as 11\n",
      "Class 11 identified as 11\n",
      "Class 11 identified as 11\n",
      "Class 12 identified as 12\n",
      "Class 12 identified as 5\n",
      "Class 12 identified as 12\n",
      "Class 13 identified as 13\n",
      "Class 13 identified as 13\n",
      "Class 13 identified as 13\n",
      "Class 14 identified as 10\n",
      "Class 14 identified as 1\n",
      "Class 14 identified as 4\n",
      "Class 15 identified as 3\n",
      "Class 15 identified as 15\n",
      "Class 15 identified as 15\n",
      "Recognition rate:  0.7777777777777778\n"
     ]
    }
   ],
   "source": [
    "%run /Users/nbettache/Desktop/face_recognition/codes/recognizer.py"
   ]
  },
  {
   "cell_type": "code",
   "execution_count": 21,
   "metadata": {},
   "outputs": [
    {
     "data": {
      "text/plain": [
       "numpy.ndarray"
      ]
     },
     "execution_count": 21,
     "metadata": {},
     "output_type": "execute_result"
    }
   ],
   "source": [
    "import cv2\n",
    "type(np.array(Image.open(\"/Users/nbettache/Desktop/S1_NBETTACHE.png\").convert('RGB'))[:, :, ::-1])"
   ]
  },
  {
   "cell_type": "code",
   "execution_count": 22,
   "metadata": {},
   "outputs": [
    {
     "data": {
      "text/plain": [
       "numpy.ndarray"
      ]
     },
     "execution_count": 22,
     "metadata": {},
     "output_type": "execute_result"
    }
   ],
   "source": [
    "type(cv2.imread(\"/Users/nbettache/Desktop/S1_NBETTACHE.png\"))"
   ]
  },
  {
   "cell_type": "code",
   "execution_count": null,
   "metadata": {},
   "outputs": [],
   "source": []
  }
 ],
 "metadata": {
  "kernelspec": {
   "display_name": "Python 3",
   "language": "python",
   "name": "python3"
  },
  "language_info": {
   "codemirror_mode": {
    "name": "ipython",
    "version": 3
   },
   "file_extension": ".py",
   "mimetype": "text/x-python",
   "name": "python",
   "nbconvert_exporter": "python",
   "pygments_lexer": "ipython3",
   "version": "3.6.10"
  }
 },
 "nbformat": 4,
 "nbformat_minor": 2
}
