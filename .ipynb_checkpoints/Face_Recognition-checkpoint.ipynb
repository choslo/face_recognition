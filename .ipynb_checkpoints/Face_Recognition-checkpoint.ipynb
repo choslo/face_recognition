{
 "cells": [
  {
   "cell_type": "markdown",
   "metadata": {},
   "source": [
    "<div style=\"text-align: left;\">\n",
    "<table style=\"width:100%; background-color:transparent;\">\n",
    "  <tr style=\"background-color:transparent;\">\n",
    "<img border=\"0\" src=\"https://www.usinenouvelle.com/mediatheque/3/2/7/000624723_image_600x315.jpg\" width=\"30%\"> </td>\n",
    "<img border=\"0\" src=\"https://josephsteinberg.com/wp-content/uploads/2020/01/Facial-Recognition.png\" width=\"40%\"> </td>\n",
    "  </tr>\n",
    "</table> \n",
    "</div>\n",
    "<center><h1> Face Recognition</h1></center>\n",
    "<br>\n",
    "<center> Nayel Bettache, Solène Cochennec </center>"
   ]
  },
  {
   "cell_type": "markdown",
   "metadata": {},
   "source": [
    "## Table of Contents\n",
    "\n",
    "0. [Introduction](#intro)<br>\n",
    "1. [Data Analysis](#Data-Analysis) <br>"
   ]
  },
  {
   "cell_type": "markdown",
   "metadata": {},
   "source": [
    "<a id='intro'></a>\n",
    "# Introduction "
   ]
  },
  {
   "cell_type": "markdown",
   "metadata": {},
   "source": [
    "The aim of the project is to implement various techniques on face recognition, based on two articles \"Face Recogniftion by Sparse Representation\" (article 1) and \"Robust Face Recognition via Sparse Representation\" (article 2).\n",
    "\n"
   ]
  },
  {
   "cell_type": "markdown",
   "metadata": {},
   "source": [
    "We will firstly select a face database (we only consider a small one for now, and we may extend it after). We will use the Yale face database (http://vision.ucsd.edu/content/yale-face-database) which contains  contains 165 grayscale images in GIF format of 15 individuals. \n",
    "\n",
    "There are 11 images per subject, one per different facial expression or configuration: center-light, w/glasses, happy, left-light, w/no glasses, normal, right-light, sad, sleepy, surprised, and wink."
   ]
  },
  {
   "cell_type": "markdown",
   "metadata": {},
   "source": [
    "### We start by downloading it into a new folder "
   ]
  },
  {
   "cell_type": "code",
   "execution_count": 3,
   "metadata": {},
   "outputs": [
    {
     "name": "stdout",
     "output_type": "stream",
     "text": [
      "Downloading from http://vision.ucsd.edu/datasets/yale_face_dataset_original/yalefaces.zip ...\n",
      "=> File saved as data/face_yale.zip\n"
     ]
    }
   ],
   "source": [
    "!python import_data.py"
   ]
  },
  {
   "cell_type": "markdown",
   "metadata": {},
   "source": [
    "### Unzip the doc & prepare data (no need to run this part if the data is download from github) "
   ]
  },
  {
   "cell_type": "code",
   "execution_count": 149,
   "metadata": {},
   "outputs": [],
   "source": [
    "import zipfile"
   ]
  },
  {
   "cell_type": "code",
   "execution_count": 150,
   "metadata": {},
   "outputs": [],
   "source": [
    "path_zip = path + \"/data/face_yale.zip\"\n",
    "directory = \"data\"\n",
    "with zipfile.ZipFile(path_zip, 'r') as zip_ref:\n",
    "    zip_ref.extractall(directory)"
   ]
  },
  {
   "cell_type": "code",
   "execution_count": 14,
   "metadata": {},
   "outputs": [],
   "source": [
    "import os \n",
    "import pandas as pd \n",
    "from PIL import Image\n",
    "from glob import glob\n",
    "import numpy as np "
   ]
  },
  {
   "cell_type": "code",
   "execution_count": 8,
   "metadata": {},
   "outputs": [
    {
     "data": {
      "text/plain": [
       "'/Users/solene/Desktop/face_recognition'"
      ]
     },
     "execution_count": 8,
     "metadata": {},
     "output_type": "execute_result"
    }
   ],
   "source": [
    "path = os.getcwd() ## Vérifier que ton os est bien dans le folder \"face_recognition\"\n",
    "path"
   ]
  },
  {
   "cell_type": "code",
   "execution_count": 152,
   "metadata": {},
   "outputs": [],
   "source": [
    "collection = path + \"/data/yalefaces\"\n",
    "for filename in os.listdir(collection):\n",
    "    new_name = filename.replace(\".\",\"_\")\n",
    "    os.rename(path + \"/data/yalefaces/\" + str(filename), path + \"/data/yalefaces/\" + new_name + \".png\")\n"
   ]
  },
  {
   "cell_type": "code",
   "execution_count": 153,
   "metadata": {},
   "outputs": [],
   "source": [
    "os.remove('data/yalefaces/Readme_txt.png')"
   ]
  },
  {
   "cell_type": "markdown",
   "metadata": {},
   "source": [
    "### To get one image "
   ]
  },
  {
   "cell_type": "code",
   "execution_count": 15,
   "metadata": {},
   "outputs": [
    {
     "data": {
      "image/png": "[encoded data removed]",
      "text/plain": [
       "<PIL.GifImagePlugin.GifImageFile image mode=L size=320x243 at 0x1109FB198>"
      ]
     },
     "execution_count": 15,
     "metadata": {},
     "output_type": "execute_result"
    }
   ],
   "source": [
    "Image.open('data/yalefaces/subject09_sleepy.png')"
   ]
  },
  {
   "cell_type": "markdown",
   "metadata": {},
   "source": [
    "### Get the database "
   ]
  },
  {
   "cell_type": "code",
   "execution_count": 16,
   "metadata": {},
   "outputs": [],
   "source": [
    "imPath = \"data/yalefaces\"\n",
    "ls_path = glob(os.path.join(imPath, '*' ))\n",
    "\n",
    "image_base_empty=[]\n",
    "label_empty=[]\n",
    "\n",
    "for file in ls_path: \n",
    "    im = np.array(Image.open(file))  ## Put the image into an array\n",
    "    image_base_empty+=[im]\n",
    "    label_empty+=[file.split('/')[2].split('_')[0].split('subject')[1]]   \n",
    "    \n",
    "image_base = np.array(image_base_empty)\n",
    "labels = np.array(label_empty)"
   ]
  },
  {
   "cell_type": "code",
   "execution_count": 17,
   "metadata": {},
   "outputs": [
    {
     "data": {
      "text/plain": [
       "(166,)"
      ]
     },
     "execution_count": 17,
     "metadata": {},
     "output_type": "execute_result"
    }
   ],
   "source": [
    "## We have two elements : images converted to arrays and labels \n",
    "labels.shape"
   ]
  },
  {
   "cell_type": "code",
   "execution_count": 25,
   "metadata": {},
   "outputs": [
    {
     "data": {
      "text/plain": [
       "(166, 243, 320)"
      ]
     },
     "execution_count": 25,
     "metadata": {},
     "output_type": "execute_result"
    }
   ],
   "source": [
    "image_base.shape"
   ]
  },
  {
   "cell_type": "code",
   "execution_count": 18,
   "metadata": {},
   "outputs": [
    {
     "data": {
      "text/plain": [
       "array([[110, 117, 121, ..., 251, 231, 241],\n",
       "       [250, 255, 255, ..., 249, 243, 252],\n",
       "       [255, 255, 255, ..., 255, 255, 255],\n",
       "       ...,\n",
       "       [243, 255, 255, ..., 167, 156, 160],\n",
       "       [246, 255, 255, ..., 171, 153, 154],\n",
       "       [ 68,  68,  68, ...,  68,  68,  68]], dtype=uint8)"
      ]
     },
     "execution_count": 18,
     "metadata": {},
     "output_type": "execute_result"
    }
   ],
   "source": [
    "image_base[0]"
   ]
  },
  {
   "cell_type": "markdown",
   "metadata": {},
   "source": [
    "# Preparation to models "
   ]
  },
  {
   "cell_type": "code",
   "execution_count": 20,
   "metadata": {},
   "outputs": [],
   "source": [
    "from sklearn.model_selection import train_test_split\n"
   ]
  },
  {
   "cell_type": "code",
   "execution_count": 21,
   "metadata": {},
   "outputs": [],
   "source": [
    "ramdom_seed=5\n",
    "\n",
    "X_train, X_test, Y_train, Y_test = train_test_split(image_base, labels, test_size=0.20, random_state=ramdom_seed)"
   ]
  },
  {
   "cell_type": "markdown",
   "metadata": {},
   "source": [
    "We separate our database into 2 sets : train (132 elements) and test (34 elements) randomnly. "
   ]
  },
  {
   "cell_type": "code",
   "execution_count": 23,
   "metadata": {},
   "outputs": [
    {
     "data": {
      "text/plain": [
       "(132, 243, 320)"
      ]
     },
     "execution_count": 23,
     "metadata": {},
     "output_type": "execute_result"
    }
   ],
   "source": [
    "X_train.shape"
   ]
  },
  {
   "cell_type": "code",
   "execution_count": 26,
   "metadata": {},
   "outputs": [
    {
     "data": {
      "text/plain": [
       "(34, 243, 320)"
      ]
     },
     "execution_count": 26,
     "metadata": {},
     "output_type": "execute_result"
    }
   ],
   "source": [
    "X_test.shape"
   ]
  },
  {
   "cell_type": "code",
   "execution_count": null,
   "metadata": {},
   "outputs": [],
   "source": []
  }
 ],
 "metadata": {
  "kernelspec": {
   "display_name": "Python 3",
   "language": "python",
   "name": "python3"
  },
  "language_info": {
   "codemirror_mode": {
    "name": "ipython",
    "version": 3
   },
   "file_extension": ".py",
   "mimetype": "text/x-python",
   "name": "python",
   "nbconvert_exporter": "python",
   "pygments_lexer": "ipython3",
   "version": "3.6.10"
  }
 },
 "nbformat": 4,
 "nbformat_minor": 2
}
