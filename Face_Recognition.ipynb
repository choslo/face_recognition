{
 "cells": [
  {
   "cell_type": "markdown",
   "metadata": {},
   "source": [
    "<div style=\"text-align: left;\">\n",
    "<table style=\"width:100%; background-color:transparent;\">\n",
    "  <tr style=\"background-color:transparent;\">\n",
    "<img border=\"0\" src=\"https://www.usinenouvelle.com/mediatheque/3/2/7/000624723_image_600x315.jpg\" width=\"30%\"> </td>\n",
    "<img border=\"0\" src=\"https://josephsteinberg.com/wp-content/uploads/2020/01/Facial-Recognition.png\" width=\"40%\"> </td>\n",
    "  </tr>\n",
    "</table> \n",
    "</div>\n",
    "<center><h1> Face Recognition</h1></center>\n",
    "<br>\n",
    "<center> Nayel Bettache, Solène Cochennec </center>"
   ]
  },
  {
   "cell_type": "markdown",
   "metadata": {},
   "source": [
    "## Table of Contents\n",
    "\n",
    "0. [Introduction](#intro)<br>\n",
    "1. [Data Analysis](#Data-Analysis) <br>"
   ]
  },
  {
   "cell_type": "markdown",
   "metadata": {},
   "source": [
    "<a id='intro'></a>\n",
    "\n",
    "# Introduction "
   ]
  },
  {
   "cell_type": "markdown",
   "metadata": {},
   "source": [
    "The aim of the project is to implement various techniques on face recognition, based on two articles \"Face Recogniftion by Sparse Representation\" (article 1) and \"Robust Face Recognition via Sparse Representation\" (article 2).\n",
    "\n"
   ]
  },
  {
   "cell_type": "markdown",
   "metadata": {},
   "source": [
    "We will firstly select a face database (we only consider a small one for now, and we may extend it after). We will use the Yale face database (http://vision.ucsd.edu/content/yale-face-database) which contains  contains 165 grayscale images in GIF format of 15 individuals. \n",
    "\n",
    "There are 11 images per subject, one per different facial expression or configuration: center-light, w/glasses, happy, left-light, w/no glasses, normal, right-light, sad, sleepy, surprised, and wink."
   ]
  },
  {
   "cell_type": "markdown",
   "metadata": {},
   "source": [
    "#### We start by downloading it into a new folder "
   ]
  },
  {
   "cell_type": "code",
   "execution_count": 3,
   "metadata": {},
   "outputs": [
    {
     "name": "stdout",
     "output_type": "stream",
     "text": [
      "Downloading from http://vision.ucsd.edu/datasets/yale_face_dataset_original/yalefaces.zip ...\n",
      "=> File saved as data/face_yale.zip\n"
     ]
    }
   ],
   "source": [
    "!python import_data.py"
   ]
  },
  {
   "cell_type": "code",
   "execution_count": null,
   "metadata": {},
   "outputs": [],
   "source": []
  }
 ],
 "metadata": {
  "kernelspec": {
   "display_name": "Python 3",
   "language": "python",
   "name": "python3"
  },
  "language_info": {
   "codemirror_mode": {
    "name": "ipython",
    "version": 3
   },
   "file_extension": ".py",
   "mimetype": "text/x-python",
   "name": "python",
   "nbconvert_exporter": "python",
   "pygments_lexer": "ipython3",
   "version": "3.6.10"
  }
 },
 "nbformat": 4,
 "nbformat_minor": 2
}
